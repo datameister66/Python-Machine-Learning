{
 "cells": [
  {
   "cell_type": "markdown",
   "id": "88c7dd89",
   "metadata": {},
   "source": [
    "## 11a. Recommendation Engines  \n",
    "\n",
    "This notebook builds recommendation engines using the MovieLens 100K dataset, comparing traditional methods (Collaborative Filtering and SVD) with a deep learning approach (Neural Collaborative Filtering, NCF). These mimic Netflix-like systems for movie suggestions."
   ]
  },
  {
   "cell_type": "code",
   "execution_count": 2,
   "id": "a31e54fb",
   "metadata": {},
   "outputs": [
    {
     "data": {
      "text/plain": [
       "'C:\\\\Users\\\\datam\\\\OneDrive\\\\Desktop\\\\python'"
      ]
     },
     "execution_count": 2,
     "metadata": {},
     "output_type": "execute_result"
    }
   ],
   "source": [
    "# Change the Directory\n",
    "import os\n",
    "os.chdir(\"C:\\\\Users\\\\datam\\\\OneDrive\\\\Desktop\\\\python\") # change as needed\n",
    "\n",
    "# Verify the change\n",
    "os.getcwd()"
   ]
  },
  {
   "cell_type": "code",
   "execution_count": 22,
   "id": "9225e0a2",
   "metadata": {},
   "outputs": [],
   "source": [
    "import pandas as pd\n",
    "import numpy as np\n",
    "from surprise import Dataset, Reader, KNNBasic, SVD\n",
    "from surprise.model_selection import train_test_split as surprise_train_test_split\n",
    "from sklearn.model_selection import train_test_split  # Added for NCF DataFrame split\n",
    "from surprise.accuracy import rmse\n",
    "import tensorflow as tf\n",
    "from tensorflow.keras.models import Model\n",
    "from tensorflow.keras.layers import Input, Embedding, Flatten, Concatenate, Dense, Dropout\n",
    "from tensorflow.keras.optimizers import Adam\n",
    "import matplotlib.pyplot as plt\n",
    "from IPython.display import display"
   ]
  },
  {
   "cell_type": "markdown",
   "id": "50545a8c",
   "metadata": {},
   "source": [
    "## Load MovieLens 100K Dataset\n",
    "The dataset includes user IDs, movie IDs, ratings (1-5), and timestamps. Movie titles are loaded for interpretability."
   ]
  },
  {
   "cell_type": "code",
   "execution_count": 6,
   "id": "8b73524f",
   "metadata": {},
   "outputs": [],
   "source": [
    "# Load MovieLens 100K dataset\n",
    "ratings_df = pd.read_csv('https://files.grouplens.org/datasets/movielens/ml-100k/u.data', \n",
    "                         sep='\\t', names=['user_id', 'movie_id', 'rating', 'timestamp'])\n",
    "movies_df = pd.read_csv('https://files.grouplens.org/datasets/movielens/ml-100k/u.item', \n",
    "                        sep='|', encoding='latin-1', usecols=[0, 1], \n",
    "                        names=['movie_id', 'title'], index_col='movie_id')"
   ]
  },
  {
   "cell_type": "code",
   "execution_count": 9,
   "id": "56dd488c",
   "metadata": {},
   "outputs": [],
   "source": [
    "# Adjust IDs to 0-based indexing for NCF\n",
    "ratings_df_ncf = ratings_df.copy()\n",
    "ratings_df_ncf['user_id'] = ratings_df_ncf['user_id'] - 1\n",
    "ratings_df_ncf['movie_id'] = ratings_df_ncf['movie_id'] - 1"
   ]
  },
  {
   "cell_type": "code",
   "execution_count": 16,
   "id": "a791c061",
   "metadata": {},
   "outputs": [
    {
     "name": "stdout",
     "output_type": "stream",
     "text": [
      "Sample Ratings Data:\n"
     ]
    },
    {
     "data": {
      "text/html": [
       "<div>\n",
       "<style scoped>\n",
       "    .dataframe tbody tr th:only-of-type {\n",
       "        vertical-align: middle;\n",
       "    }\n",
       "\n",
       "    .dataframe tbody tr th {\n",
       "        vertical-align: top;\n",
       "    }\n",
       "\n",
       "    .dataframe thead th {\n",
       "        text-align: right;\n",
       "    }\n",
       "</style>\n",
       "<table border=\"1\" class=\"dataframe\">\n",
       "  <thead>\n",
       "    <tr style=\"text-align: right;\">\n",
       "      <th></th>\n",
       "      <th>user_id</th>\n",
       "      <th>movie_id</th>\n",
       "      <th>rating</th>\n",
       "      <th>timestamp</th>\n",
       "    </tr>\n",
       "  </thead>\n",
       "  <tbody>\n",
       "    <tr>\n",
       "      <th>0</th>\n",
       "      <td>196</td>\n",
       "      <td>242</td>\n",
       "      <td>3</td>\n",
       "      <td>881250949</td>\n",
       "    </tr>\n",
       "    <tr>\n",
       "      <th>1</th>\n",
       "      <td>186</td>\n",
       "      <td>302</td>\n",
       "      <td>3</td>\n",
       "      <td>891717742</td>\n",
       "    </tr>\n",
       "    <tr>\n",
       "      <th>2</th>\n",
       "      <td>22</td>\n",
       "      <td>377</td>\n",
       "      <td>1</td>\n",
       "      <td>878887116</td>\n",
       "    </tr>\n",
       "    <tr>\n",
       "      <th>3</th>\n",
       "      <td>244</td>\n",
       "      <td>51</td>\n",
       "      <td>2</td>\n",
       "      <td>880606923</td>\n",
       "    </tr>\n",
       "    <tr>\n",
       "      <th>4</th>\n",
       "      <td>166</td>\n",
       "      <td>346</td>\n",
       "      <td>1</td>\n",
       "      <td>886397596</td>\n",
       "    </tr>\n",
       "  </tbody>\n",
       "</table>\n",
       "</div>"
      ],
      "text/plain": [
       "   user_id  movie_id  rating  timestamp\n",
       "0      196       242       3  881250949\n",
       "1      186       302       3  891717742\n",
       "2       22       377       1  878887116\n",
       "3      244        51       2  880606923\n",
       "4      166       346       1  886397596"
      ]
     },
     "metadata": {},
     "output_type": "display_data"
    },
    {
     "name": "stdout",
     "output_type": "stream",
     "text": [
      "Number of users: 943\n",
      "Number of movies: 1682\n"
     ]
    }
   ],
   "source": [
    "n_users = ratings_df['user_id'].nunique()\n",
    "n_movies = ratings_df['movie_id'].nunique()\n",
    "print(\"Sample Ratings Data:\")\n",
    "display(ratings_df.head())\n",
    "print(f\"Number of users: {n_users}\")\n",
    "print(f\"Number of movies: {n_movies}\")"
   ]
  },
  {
   "cell_type": "code",
   "execution_count": 11,
   "id": "57af19e0",
   "metadata": {},
   "outputs": [
    {
     "data": {
      "image/png": "[encoded data removed]",
      "text/plain": [
       "<Figure size 640x480 with 1 Axes>"
      ]
     },
     "metadata": {},
     "output_type": "display_data"
    }
   ],
   "source": [
    "# Data Visualization of ratings\n",
    "ratings_df['rating'].hist(bins=5, edgecolor='black')\n",
    "plt.title(\"Distribution of Movie Ratings\")\n",
    "plt.xlabel(\"Rating\")\n",
    "plt.ylabel(\"Count\")\n",
    "plt.show()"
   ]
  },
  {
   "cell_type": "markdown",
   "id": "87c77326",
   "metadata": {},
   "source": [
    "## Traditional Methods\n",
    "We'll implement User-Based Collaborative Filtering and SVD using the `surprise` library."
   ]
  },
  {
   "cell_type": "code",
   "execution_count": 12,
   "id": "5be2116f",
   "metadata": {},
   "outputs": [],
   "source": [
    "# Prepare Data for Traditional Methods\n",
    "reader = Reader(rating_scale=(1, 5))\n",
    "dataset = Dataset.load_from_df(ratings_df[['user_id', 'movie_id', 'rating']], reader)\n",
    "trainset, testset = train_test_split(dataset, test_size=0.25, random_state=42)"
   ]
  },
  {
   "cell_type": "markdown",
   "id": "e2a58bb1",
   "metadata": {},
   "source": [
    "User-based collaborative filtering recommends items by finding users with similar preferences (based on past ratings or interactions) and suggesting items they liked. It assumes that if User A and User B rate items similarly, User A will enjoy items User B likes but hasn’t tried yet."
   ]
  },
  {
   "cell_type": "code",
   "execution_count": 13,
   "id": "255d3530",
   "metadata": {},
   "outputs": [
    {
     "name": "stdout",
     "output_type": "stream",
     "text": [
      "Computing the cosine similarity matrix...\n",
      "Done computing similarity matrix.\n",
      "RMSE: 1.0223\n",
      "RMSE for User-Based CF: 1.022\n"
     ]
    }
   ],
   "source": [
    "# User-Based Collaborative Filtering\n",
    "sim_options = {'name': 'cosine', 'user_based': True}\n",
    "algo_knn = KNNBasic(sim_options=sim_options)\n",
    "algo_knn.fit(trainset)\n",
    "predictions_knn = algo_knn.test(testset)\n",
    "rmse_knn = rmse(predictions_knn)\n",
    "print(f\"RMSE for User-Based CF: {rmse_knn:.3f}\")"
   ]
  },
  {
   "cell_type": "markdown",
   "id": "c3d91502",
   "metadata": {},
   "source": [
    "SVD (Singular Value Decomposition) is a matrix factorization technique that decomposes a user-item rating matrix into latent factors, capturing hidden patterns. It predicts ratings by reconstructing the matrix with reduced dimensions, leveraging user and item embeddings to recommend items based on inferred preferences."
   ]
  },
  {
   "cell_type": "code",
   "execution_count": 14,
   "id": "081970d7",
   "metadata": {},
   "outputs": [
    {
     "name": "stdout",
     "output_type": "stream",
     "text": [
      "RMSE: 0.9448\n",
      "RMSE for SVD: 0.945\n"
     ]
    }
   ],
   "source": [
    "# SVD (Matrix Factorization)\n",
    "algo_svd = SVD()\n",
    "algo_svd.fit(trainset)\n",
    "predictions_svd = algo_svd.test(testset)\n",
    "rmse_svd = rmse(predictions_svd)\n",
    "print(f\"RMSE for SVD: {rmse_svd:.3f}\")"
   ]
  },
  {
   "cell_type": "markdown",
   "id": "108c08de",
   "metadata": {},
   "source": [
    "## Neural Collaborative Filtering (NCF)  \n",
    "\n",
    "Use a neural network to model user-item interactions with embeddings and dense layers."
   ]
  },
  {
   "cell_type": "code",
   "execution_count": 24,
   "id": "9bb90d67",
   "metadata": {},
   "outputs": [
    {
     "name": "stdout",
     "output_type": "stream",
     "text": [
      "Training samples: 75000, Test samples: 25000\n"
     ]
    }
   ],
   "source": [
    "# Split data using pandas; \n",
    "# Split data using pandas (no surprise dataset object)\n",
    "train_df, test_df = train_test_split(ratings_df_ncf, test_size=0.25, random_state=42)\n",
    "\n",
    "# Extract arrays for training and testing\n",
    "train_users = train_df['user_id'].values\n",
    "train_movies = train_df['movie_id'].values\n",
    "train_ratings = train_df['rating'].values\n",
    "\n",
    "test_users = test_df['user_id'].values\n",
    "test_movies = test_df['movie_id'].values\n",
    "test_ratings = test_df['rating'].values\n",
    "\n",
    "print(f\"Training samples: {len(train_ratings)}, Test samples: {len(test_ratings)}\")"
   ]
  },
  {
   "cell_type": "code",
   "execution_count": 25,
   "id": "a9fee4b6",
   "metadata": {},
   "outputs": [],
   "source": [
    "# Build NCF Model  \n",
    "# This model could go through a number of training iterations with different parameters to improve performance\n",
    "embedding_size = 50\n",
    "user_input = Input(shape=(1,), name='user_input')\n",
    "movie_input = Input(shape=(1,), name='movie_input')\n",
    "user_embedding = Embedding(n_users, embedding_size, name='user_embedding')(user_input)\n",
    "movie_embedding = Embedding(n_movies, embedding_size, name='movie_embedding')(movie_input)\n",
    "user_vec = Flatten(name='flatten_users')(user_embedding)\n",
    "movie_vec = Flatten(name='flatten_movies')(movie_embedding)\n",
    "concat = Concatenate(name='concat')([user_vec, movie_vec])\n",
    "dense = Dense(128, activation='relu')(concat)\n",
    "dense = Dropout(0.2)(dense)\n",
    "dense = Dense(64, activation='relu')(dense)\n",
    "dense = Dropout(0.2)(dense)\n",
    "output = Dense(1, activation='linear')(dense)\n",
    "ncf_model = Model(inputs=[user_input, movie_input], outputs=output)\n",
    "ncf_model.compile(optimizer=Adam(learning_rate=0.001), loss='mse')"
   ]
  },
  {
   "cell_type": "code",
   "execution_count": 26,
   "id": "93e5f01f",
   "metadata": {},
   "outputs": [
    {
     "name": "stdout",
     "output_type": "stream",
     "text": [
      "Epoch 1/20\n",
      "1172/1172 [==============================] - 5s 3ms/step - loss: 1.4149 - val_loss: 0.9563\n",
      "Epoch 2/20\n",
      "1172/1172 [==============================] - 4s 3ms/step - loss: 0.9981 - val_loss: 0.8970\n",
      "Epoch 3/20\n",
      "1172/1172 [==============================] - 4s 3ms/step - loss: 0.9621 - val_loss: 0.8796\n",
      "Epoch 4/20\n",
      "1172/1172 [==============================] - 4s 3ms/step - loss: 0.9246 - val_loss: 0.8754\n",
      "Epoch 5/20\n",
      "1172/1172 [==============================] - 4s 3ms/step - loss: 0.8861 - val_loss: 0.8692\n",
      "Epoch 6/20\n",
      "1172/1172 [==============================] - 4s 3ms/step - loss: 0.8485 - val_loss: 0.8689\n",
      "Epoch 7/20\n",
      "1172/1172 [==============================] - 4s 3ms/step - loss: 0.8103 - val_loss: 0.8697\n",
      "Epoch 8/20\n",
      "1172/1172 [==============================] - 4s 3ms/step - loss: 0.7736 - val_loss: 0.8803\n",
      "Epoch 9/20\n",
      "1172/1172 [==============================] - 4s 3ms/step - loss: 0.7324 - val_loss: 0.8779\n",
      "Epoch 10/20\n",
      "1172/1172 [==============================] - 4s 3ms/step - loss: 0.6952 - val_loss: 0.8835\n",
      "Epoch 11/20\n",
      "1172/1172 [==============================] - 4s 3ms/step - loss: 0.6620 - val_loss: 0.8978\n",
      "Epoch 12/20\n",
      "1172/1172 [==============================] - 4s 3ms/step - loss: 0.6282 - val_loss: 0.8960\n",
      "Epoch 13/20\n",
      "1172/1172 [==============================] - 4s 3ms/step - loss: 0.6015 - val_loss: 0.9221\n",
      "Epoch 14/20\n",
      "1172/1172 [==============================] - 4s 3ms/step - loss: 0.5725 - val_loss: 0.9264\n",
      "Epoch 15/20\n",
      "1172/1172 [==============================] - 4s 3ms/step - loss: 0.5522 - val_loss: 0.9367\n",
      "Epoch 16/20\n",
      "1172/1172 [==============================] - 4s 3ms/step - loss: 0.5294 - val_loss: 0.9399\n",
      "Epoch 17/20\n",
      "1172/1172 [==============================] - 4s 3ms/step - loss: 0.5119 - val_loss: 0.9638\n",
      "Epoch 18/20\n",
      "1172/1172 [==============================] - 4s 3ms/step - loss: 0.4942 - val_loss: 0.9639\n",
      "Epoch 19/20\n",
      "1172/1172 [==============================] - 4s 3ms/step - loss: 0.4788 - val_loss: 0.9650\n",
      "Epoch 20/20\n",
      "1172/1172 [==============================] - 4s 3ms/step - loss: 0.4655 - val_loss: 0.9879\n",
      "782/782 [==============================] - 1s 1ms/step\n",
      "RMSE for NCF: 0.994\n"
     ]
    }
   ],
   "source": [
    "# Train NCF Model\n",
    "history = ncf_model.fit(\n",
    "    [train_users, train_movies], train_ratings,\n",
    "    epochs=20, batch_size=64, validation_data=([test_users, test_movies], test_ratings),\n",
    "    verbose=1\n",
    ")\n",
    "test_preds = ncf_model.predict([test_users, test_movies])\n",
    "ncf_rmse = np.sqrt(np.mean((test_ratings - test_preds.flatten())**2))\n",
    "print(f\"RMSE for NCF: {ncf_rmse:.3f}\")"
   ]
  },
  {
   "cell_type": "code",
   "execution_count": 27,
   "id": "6537a4d1",
   "metadata": {},
   "outputs": [
    {
     "data": {
      "image/png": "[encoded data removed]",
      "text/plain": [
       "<Figure size 640x480 with 1 Axes>"
      ]
     },
     "metadata": {},
     "output_type": "display_data"
    }
   ],
   "source": [
    "# Plot NCF Training History\n",
    "# This is a classic case of Bias-Variance Tradeoff\n",
    "plt.plot(history.history['loss'], label='Training Loss')\n",
    "plt.plot(history.history['val_loss'], label='Validation Loss')\n",
    "plt.title(\"NCF Training Loss\")\n",
    "plt.xlabel(\"Epoch\")\n",
    "plt.ylabel(\"MSE Loss\")\n",
    "plt.legend()\n",
    "plt.show()"
   ]
  },
  {
   "cell_type": "markdown",
   "id": "e6ae6c40",
   "metadata": {},
   "source": [
    "## Recommendation Functions  \n",
    "\n",
    "Functions to recommend movies for all three models."
   ]
  },
  {
   "cell_type": "code",
   "execution_count": 28,
   "id": "1707b259",
   "metadata": {},
   "outputs": [],
   "source": [
    "# Traditional Recommendation Function\n",
    "\n",
    "def recommend_movies_traditional(user_id, algo, ratings_df, movies_df, n=5):\n",
    "    all_movie_ids = ratings_df['movie_id'].unique()\n",
    "    rated_movies = ratings_df[ratings_df['user_id'] == user_id]['movie_id'].values\n",
    "    unrated_movies = [mid for mid in all_movie_ids if mid not in rated_movies]\n",
    "    predictions = [algo.predict(user_id, mid) for mid in unrated_movies]\n",
    "    top_preds = sorted(predictions, key=lambda x: x.est, reverse=True)[:n]\n",
    "    return [(movies_df.loc[pred.iid, 'title'], pred.est) for pred in top_preds]"
   ]
  },
  {
   "cell_type": "code",
   "execution_count": 29,
   "id": "1e12ddaa",
   "metadata": {},
   "outputs": [],
   "source": [
    "# NCF Recommendation Function\n",
    "\n",
    "def recommend_movies_ncf(user_id, model, ratings_df, movies_df, n=5):\n",
    "    all_movie_ids = np.arange(n_movies)\n",
    "    rated_movies = ratings_df[ratings_df['user_id'] == user_id]['movie_id'].values\n",
    "    unrated_movies = np.setdiff1d(all_movie_ids, rated_movies)\n",
    "    user_array = np.array([user_id] * len(unrated_movies))\n",
    "    preds = model.predict([user_array, unrated_movies], verbose=0).flatten()\n",
    "    top_indices = np.argsort(preds)[::-1][:n]\n",
    "    top_movie_ids = unrated_movies[top_indices]\n",
    "    top_ratings = preds[top_indices]\n",
    "    return [(movies_df.loc[mid + 1, 'title'], rating) for mid, rating in zip(top_movie_ids, top_ratings)]"
   ]
  },
  {
   "cell_type": "markdown",
   "id": "4a76a927",
   "metadata": {},
   "source": [
    "## Recommendation Examples  \n",
    "\n",
    "Compare recommendations for User 1 and User 196 across all models."
   ]
  },
  {
   "cell_type": "code",
   "execution_count": 31,
   "id": "4c8b9966",
   "metadata": {},
   "outputs": [
    {
     "name": "stdout",
     "output_type": "stream",
     "text": [
      "\n",
      "Top 5 Recommendations for User 1:\n",
      "User-Based CF:\n",
      "Prefontaine (1997): Predicted Rating = 5.00\n",
      "Santa with Muscles (1996): Predicted Rating = 5.00\n",
      "Great Day in Harlem, A (1994): Predicted Rating = 5.00\n",
      "Aiqing wansui (1994): Predicted Rating = 5.00\n",
      "Golden Earrings (1947): Predicted Rating = 5.00\n",
      "\n",
      "SVD:\n",
      "Casablanca (1942): Predicted Rating = 4.90\n",
      "Schindler's List (1993): Predicted Rating = 4.75\n",
      "Cool Hand Luke (1967): Predicted Rating = 4.71\n",
      "One Flew Over the Cuckoo's Nest (1975): Predicted Rating = 4.65\n",
      "North by Northwest (1959): Predicted Rating = 4.61\n",
      "\n",
      "NCF:\n",
      "Boys, Les (1997): Predicted Rating = 5.41\n",
      "Harlem (1993): Predicted Rating = 5.35\n",
      "Whole Wide World, The (1996): Predicted Rating = 5.32\n",
      "Anna (1996): Predicted Rating = 5.24\n",
      "Bitter Sugar (Azucar Amargo) (1996): Predicted Rating = 5.22\n"
     ]
    }
   ],
   "source": [
    "# User 1 Recommendations\n",
    "user_id = 1  # 1-based for traditional, 0-based for NCF\n",
    "print(f\"\\nTop 5 Recommendations for User {user_id}:\")\n",
    "\n",
    "print(\"User-Based CF:\")\n",
    "recs_knn = recommend_movies_traditional(user_id, algo_knn, ratings_df, movies_df)\n",
    "for title, rating in recs_knn:\n",
    "    print(f\"{title}: Predicted Rating = {rating:.2f}\")\n",
    "\n",
    "print(\"\\nSVD:\")\n",
    "recs_svd = recommend_movies_traditional(user_id, algo_svd, ratings_df, movies_df)\n",
    "for title, rating in recs_svd:\n",
    "    print(f\"{title}: Predicted Rating = {rating:.2f}\")\n",
    "\n",
    "print(\"\\nNCF:\")\n",
    "recs_ncf = recommend_movies_ncf(user_id - 1, ncf_model, ratings_df_ncf, movies_df)\n",
    "for title, rating in recs_ncf:\n",
    "    print(f\"{title}: Predicted Rating = {rating:.2f}\")"
   ]
  },
  {
   "cell_type": "code",
   "execution_count": 32,
   "id": "0931b984",
   "metadata": {},
   "outputs": [
    {
     "name": "stdout",
     "output_type": "stream",
     "text": [
      "\n",
      "Top 5 Recommendations for User 196:\n",
      "User-Based CF:\n",
      "Prefontaine (1997): Predicted Rating = 5.00\n",
      "Santa with Muscles (1996): Predicted Rating = 5.00\n",
      "Great Day in Harlem, A (1994): Predicted Rating = 5.00\n",
      "Golden Earrings (1947): Predicted Rating = 5.00\n",
      "Star Kid (1997): Predicted Rating = 5.00\n",
      "\n",
      "SVD:\n",
      "Shawshank Redemption, The (1994): Predicted Rating = 4.64\n",
      "Raise the Red Lantern (1991): Predicted Rating = 4.58\n",
      "Schindler's List (1993): Predicted Rating = 4.54\n",
      "To Kill a Mockingbird (1962): Predicted Rating = 4.49\n",
      "One Flew Over the Cuckoo's Nest (1975): Predicted Rating = 4.48\n",
      "\n",
      "NCF:\n",
      "Priest (1994): Predicted Rating = 4.88\n",
      "Boys, Les (1997): Predicted Rating = 4.77\n",
      "Best Men (1997): Predicted Rating = 4.76\n",
      "Graduate, The (1967): Predicted Rating = 4.72\n",
      "Shawshank Redemption, The (1994): Predicted Rating = 4.71\n"
     ]
    }
   ],
   "source": [
    "# Cell 20: User 196 Recommendations\n",
    "user_id = 196  # 1-based for traditional, 0-based for NCF\n",
    "print(f\"\\nTop 5 Recommendations for User {user_id}:\")\n",
    "\n",
    "print(\"User-Based CF:\")\n",
    "recs_knn = recommend_movies_traditional(user_id, algo_knn, ratings_df, movies_df)\n",
    "for title, rating in recs_knn:\n",
    "    print(f\"{title}: Predicted Rating = {rating:.2f}\")\n",
    "\n",
    "print(\"\\nSVD:\")\n",
    "recs_svd = recommend_movies_traditional(user_id, algo_svd, ratings_df, movies_df)\n",
    "for title, rating in recs_svd:\n",
    "    print(f\"{title}: Predicted Rating = {rating:.2f}\")\n",
    "\n",
    "print(\"\\nNCF:\")\n",
    "recs_ncf = recommend_movies_ncf(user_id - 1, ncf_model, ratings_df_ncf, movies_df)\n",
    "for title, rating in recs_ncf:\n",
    "    print(f\"{title}: Predicted Rating = {rating:.2f}\")"
   ]
  },
  {
   "cell_type": "markdown",
   "id": "5ae646a8",
   "metadata": {},
   "source": [
    "## Model Comparison  \n",
    "\n",
    "Compare RMSE across all three models."
   ]
  },
  {
   "cell_type": "code",
   "execution_count": 33,
   "id": "59825f15",
   "metadata": {},
   "outputs": [
    {
     "data": {
      "image/png": "[encoded data removed]",
      "text/plain": [
       "<Figure size 640x480 with 1 Axes>"
      ]
     },
     "metadata": {},
     "output_type": "display_data"
    }
   ],
   "source": [
    "# Plot RMSE Comparison\n",
    "plt.bar(['User-Based CF', 'SVD', 'NCF'], [rmse_knn, rmse_svd, ncf_rmse], \n",
    "        color=['skyblue', 'salmon', 'lightgreen'])\n",
    "plt.title(\"Model Performance Comparison\")\n",
    "plt.ylabel(\"RMSE\")\n",
    "plt.show()"
   ]
  }
 ],
 "metadata": {
  "kernelspec": {
   "display_name": "Python [conda env:p37env]",
   "language": "python",
   "name": "conda-env-p37env-py"
  },
  "language_info": {
   "codemirror_mode": {
    "name": "ipython",
    "version": 3
   },
   "file_extension": ".py",
   "mimetype": "text/x-python",
   "name": "python",
   "nbconvert_exporter": "python",
   "pygments_lexer": "ipython3",
   "version": "3.10.13"
  }
 },
 "nbformat": 4,
 "nbformat_minor": 5
}
