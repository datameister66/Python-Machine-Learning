{
 "cells": [
  {
   "cell_type": "markdown",
   "id": "86360beb",
   "metadata": {},
   "source": [
    "## 11b. Keras deep learning for recommendations"
   ]
  },
  {
   "cell_type": "code",
   "execution_count": 1,
   "id": "1b262b84",
   "metadata": {},
   "outputs": [
    {
     "data": {
      "text/plain": [
       "'C:\\\\Users\\\\datam\\\\OneDrive\\\\Desktop\\\\python\\\\ml-20m'"
      ]
     },
     "execution_count": 1,
     "metadata": {},
     "output_type": "execute_result"
    }
   ],
   "source": [
    "# Change the Directory\n",
    "import os\n",
    "os.chdir(\"C:\\\\Users\\\\datam\\\\OneDrive\\\\Desktop\\\\python\\\\ml-20m\") # change as needed\n",
    "\n",
    "# Verify the change\n",
    "os.getcwd()"
   ]
  },
  {
   "cell_type": "code",
   "execution_count": 2,
   "id": "4eda29de",
   "metadata": {},
   "outputs": [],
   "source": [
    "# Import necessary libraries\n",
    "import pandas as pd\n",
    "import numpy as np\n",
    "from sklearn.model_selection import train_test_split\n",
    "from tensorflow import keras\n",
    "from tensorflow.keras import layers\n",
    "import matplotlib.pyplot as plt"
   ]
  },
  {
   "cell_type": "code",
   "execution_count": null,
   "id": "7aac099a",
   "metadata": {},
   "outputs": [],
   "source": [
    "# 1. Load and preprocess the data\n",
    "ratings_df = pd.read_csv('ratings.csv')  # Adjust path as needed\n",
    "movies_df = pd.read_csv('movies.csv')    # Adjust path as needed"
   ]
  },
  {
   "cell_type": "code",
   "execution_count": 5,
   "id": "962159c7",
   "metadata": {},
   "outputs": [
    {
     "data": {
      "text/plain": [
       "(27278, 3)"
      ]
     },
     "execution_count": 5,
     "metadata": {},
     "output_type": "execute_result"
    }
   ],
   "source": [
    "movies_df.shape"
   ]
  },
  {
   "cell_type": "code",
   "execution_count": 6,
   "id": "8e09afc8",
   "metadata": {},
   "outputs": [],
   "source": [
    "# Map user and movie IDs to continuous integers\n",
    "user_ids = ratings_df['userId'].unique()\n",
    "movie_ids = ratings_df['movieId'].unique()\n",
    "n_users = len(user_ids)\n",
    "n_movies = len(movie_ids)\n",
    "\n",
    "user_id_map = {old_id: new_id for new_id, old_id in enumerate(user_ids)}\n",
    "movie_id_map = {old_id: new_id for new_id, old_id in enumerate(movie_ids)}\n",
    "\n",
    "ratings_df['userId'] = ratings_df['userId'].map(user_id_map)\n",
    "ratings_df['movieId'] = ratings_df['movieId'].map(movie_id_map)"
   ]
  },
  {
   "cell_type": "code",
   "execution_count": 7,
   "id": "85743c56",
   "metadata": {},
   "outputs": [],
   "source": [
    "# Split the data\n",
    "train_data, test_data = train_test_split(ratings_df, test_size=0.2, random_state=42)"
   ]
  },
  {
   "cell_type": "code",
   "execution_count": 8,
   "id": "fe9452e6",
   "metadata": {},
   "outputs": [],
   "source": [
    "# Define model parameters; adjust these parameters as needed\n",
    "embedding_size = 50  # Size of embedding vectors\n",
    "n_epochs = 1 # an epoch can take a LOOOONNNNGGGG time, but default to 10 if you can\n",
    "batch_size = 256"
   ]
  },
  {
   "cell_type": "code",
   "execution_count": 9,
   "id": "69a1724f",
   "metadata": {},
   "outputs": [],
   "source": [
    "# Build the Keras model; adjust these parameters as needed\n",
    "def build_recommender_model(n_users, n_movies, embedding_size):\n",
    "    # User input and embedding\n",
    "    user_input = layers.Input(shape=(1,), name='user_input')\n",
    "    user_embedding = layers.Embedding(n_users, embedding_size, \n",
    "                                    name='user_embedding')(user_input)\n",
    "    user_vec = layers.Flatten(name='flatten_users')(user_embedding)\n",
    "    \n",
    "    # Movie input and embedding\n",
    "    movie_input = layers.Input(shape=(1,), name='movie_input')\n",
    "    movie_embedding = layers.Embedding(n_movies, embedding_size, \n",
    "                                     name='movie_embedding')(movie_input)\n",
    "    movie_vec = layers.Flatten(name='flatten_movies')(movie_embedding)\n",
    "    \n",
    "    # Concatenate user and movie embeddings\n",
    "    concat = layers.Concatenate()([user_vec, movie_vec])\n",
    "    \n",
    "    # Neural network layers\n",
    "    dense_1 = layers.Dense(96, activation='relu')(concat) #128 was recommended, I went with 96\n",
    "    dropout_1 = layers.Dropout(0.2)(dense_1)\n",
    "    dense_2 = layers.Dense(64, activation='relu')(dropout_1)\n",
    "    dropout_2 = layers.Dropout(0.2)(dense_2)\n",
    "    output = layers.Dense(1, activation='linear')(dropout_2)\n",
    "    \n",
    "    # Create and compile model\n",
    "    model = keras.Model(inputs=[user_input, movie_input], outputs=output)\n",
    "    model.compile(optimizer='adam', \n",
    "                 loss='mean_squared_error',\n",
    "                 metrics=['mae'])\n",
    "    \n",
    "    return model"
   ]
  },
  {
   "cell_type": "markdown",
   "id": "f8fcd4e3",
   "metadata": {},
   "source": [
    "## Run the code below and go get yourself a meal, watch all seasons of Breaking Bad, or go on vacation.  \n",
    "\n",
    "This is a LARGE datset"
   ]
  },
  {
   "cell_type": "code",
   "execution_count": 11,
   "id": "d70a7fbc",
   "metadata": {},
   "outputs": [
    {
     "name": "stdout",
     "output_type": "stream",
     "text": [
      "Model: \"model\"\n",
      "__________________________________________________________________________________________________\n",
      " Layer (type)                   Output Shape         Param #     Connected to                     \n",
      "==================================================================================================\n",
      " user_input (InputLayer)        [(None, 1)]          0           []                               \n",
      "                                                                                                  \n",
      " movie_input (InputLayer)       [(None, 1)]          0           []                               \n",
      "                                                                                                  \n",
      " user_embedding (Embedding)     (None, 1, 50)        6924650     ['user_input[0][0]']             \n",
      "                                                                                                  \n",
      " movie_embedding (Embedding)    (None, 1, 50)        1337200     ['movie_input[0][0]']            \n",
      "                                                                                                  \n",
      " flatten_users (Flatten)        (None, 50)           0           ['user_embedding[0][0]']         \n",
      "                                                                                                  \n",
      " flatten_movies (Flatten)       (None, 50)           0           ['movie_embedding[0][0]']        \n",
      "                                                                                                  \n",
      " concatenate (Concatenate)      (None, 100)          0           ['flatten_users[0][0]',          \n",
      "                                                                  'flatten_movies[0][0]']         \n",
      "                                                                                                  \n",
      " dense (Dense)                  (None, 96)           9696        ['concatenate[0][0]']            \n",
      "                                                                                                  \n",
      " dropout (Dropout)              (None, 96)           0           ['dense[0][0]']                  \n",
      "                                                                                                  \n",
      " dense_1 (Dense)                (None, 64)           6208        ['dropout[0][0]']                \n",
      "                                                                                                  \n",
      " dropout_1 (Dropout)            (None, 64)           0           ['dense_1[0][0]']                \n",
      "                                                                                                  \n",
      " dense_2 (Dense)                (None, 1)            65          ['dropout_1[0][0]']              \n",
      "                                                                                                  \n",
      "==================================================================================================\n",
      "Total params: 8,277,819\n",
      "Trainable params: 8,277,819\n",
      "Non-trainable params: 0\n",
      "__________________________________________________________________________________________________\n",
      "56251/56251 [==============================] - 1642s 29ms/step - loss: 0.7667 - mae: 0.6714 - val_loss: 0.7031 - val_mae: 0.6419\n"
     ]
    }
   ],
   "source": [
    "# Create and train the model\n",
    "model = build_recommender_model(n_users, n_movies, embedding_size)\n",
    "model.summary()\n",
    "\n",
    "# Prepare training data\n",
    "train_users = train_data['userId'].values\n",
    "train_movies = train_data['movieId'].values\n",
    "train_ratings = train_data['rating'].values\n",
    "\n",
    "# Train the model\n",
    "history = model.fit(\n",
    "    [train_users, train_movies],\n",
    "    train_ratings,\n",
    "    batch_size=batch_size,\n",
    "    epochs=n_epochs,\n",
    "    validation_split=0.1,\n",
    "    verbose=1\n",
    ")"
   ]
  },
  {
   "cell_type": "code",
   "execution_count": null,
   "id": "a2a347f5",
   "metadata": {},
   "outputs": [],
   "source": []
  },
  {
   "cell_type": "code",
   "execution_count": null,
   "id": "bd181a3c",
   "metadata": {},
   "outputs": [],
   "source": [
    "# Evaluate Model"
   ]
  }
 ],
 "metadata": {
  "kernelspec": {
   "display_name": "Python [conda env:p37env]",
   "language": "python",
   "name": "conda-env-p37env-py"
  },
  "language_info": {
   "codemirror_mode": {
    "name": "ipython",
    "version": 3
   },
   "file_extension": ".py",
   "mimetype": "text/x-python",
   "name": "python",
   "nbconvert_exporter": "python",
   "pygments_lexer": "ipython3",
   "version": "3.10.13"
  }
 },
 "nbformat": 4,
 "nbformat_minor": 5
}
